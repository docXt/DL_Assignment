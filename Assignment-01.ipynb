{
 "cells": [
  {
   "cell_type": "code",
   "execution_count": 1,
   "id": "e61435cf",
   "metadata": {},
   "outputs": [],
   "source": [
    "import numpy as np,pandas as pd,matplotlib.pyplot as plt,cv2\n",
    "import warnings\n",
    "warnings.filterwarnings('ignore')"
   ]
  },
  {
   "cell_type": "code",
   "execution_count": 2,
   "id": "50f03ee4-089d-4885-9a4e-c52e8f76d0c7",
   "metadata": {},
   "outputs": [],
   "source": [
    "from tensorflow.keras.layers import Dense,Conv2D,MaxPooling2D,Flatten,Dropout\n",
    "from tensorflow.keras.models import Sequential\n",
    "from tensorflow.keras.utils import to_categorical"
   ]
  },
  {
   "cell_type": "code",
   "execution_count": 3,
   "id": "abc6bc42-3384-4ed1-9ae2-9170182cead9",
   "metadata": {},
   "outputs": [],
   "source": [
    "from sklearn.model_selection import train_test_split\n",
    "import os"
   ]
  },
  {
   "cell_type": "code",
   "execution_count": 4,
   "id": "db5d2342-6a80-48af-bf8e-9a23461539a4",
   "metadata": {},
   "outputs": [],
   "source": [
    "np.random.seed(1)"
   ]
  },
  {
   "cell_type": "code",
   "execution_count": 5,
   "id": "6a849648-f478-42ec-911f-ae00e96935da",
   "metadata": {},
   "outputs": [],
   "source": [
    "train_images = []\n",
    "train_labels = []\n",
    "shape = (300,300)\n",
    "train_path = \"datasets/fruits/train\"\n",
    "\n",
    "for fname in os.listdir(\"datasets/fruits/train\"):\n",
    "    if fname.split('.')[1] == 'jpg':\n",
    "        img = cv2.imread(os.path.join(train_path,fname))\n",
    "        train_labels.append(fname.split('_')[0])\n",
    "        img = cv2.resize(img,shape)\n",
    "        train_images.append(img)\n",
    "        \n",
    "train_labels = pd.get_dummies(train_labels).values\n",
    "train_images = np.array(train_images)"
   ]
  },
  {
   "cell_type": "code",
   "execution_count": 6,
   "id": "381a4954-ee77-499a-bd6e-5a55d02a0ecb",
   "metadata": {},
   "outputs": [],
   "source": [
    "x_train, x_test, y_train, y_test = train_test_split(train_images, train_labels, random_state=1)"
   ]
  },
  {
   "cell_type": "code",
   "execution_count": 7,
   "id": "07d539f2-ff5e-4856-8374-cac411350cc0",
   "metadata": {},
   "outputs": [],
   "source": [
    "test_images = []\n",
    "test_labels = []\n",
    "shape = (300,300)\n",
    "test_path = \"datasets/fruits/test\"\n",
    "\n",
    "for fname in os.listdir(\"datasets/fruits/test\"):\n",
    "    if fname.split('.')[1] == 'jpg':\n",
    "        img = cv2.imread(os.path.join(test_path,fname))\n",
    "        test_labels.append(fname.split('_')[0])\n",
    "        img = cv2.resize(img,shape)\n",
    "        test_images.append(img)\n",
    "test_images = np.array(test_images)"
   ]
  },
  {
   "cell_type": "code",
   "execution_count": 8,
   "id": "247c5f90-af48-4592-b017-f5440b9b4087",
   "metadata": {},
   "outputs": [],
   "source": [
    "x_train = x_train/255.0\n",
    "x_test = x_test/255.0"
   ]
  },
  {
   "cell_type": "markdown",
   "id": "55285d4f-8b62-43cd-b678-cd59fdaf95ec",
   "metadata": {},
   "source": [
    "# Model"
   ]
  },
  {
   "cell_type": "code",
   "execution_count": 9,
   "id": "df118809-cfa0-4472-8f95-2f5cb5e9277c",
   "metadata": {},
   "outputs": [],
   "source": [
    "model = Sequential()\n",
    "\n",
    "#input layer\n",
    "model.add(Conv2D(kernel_size=(3,3), filters = 32, activation= 'relu', input_shape = (300, 300,3)))\n",
    "\n",
    "# hidden layer-1\n",
    "model.add(Conv2D(kernel_size=(3,3),filters = 30, activation = 'relu'))\n",
    "model.add(MaxPooling2D(3,3))\n",
    "\n",
    "# hidden layer-2\n",
    "model.add(Conv2D(kernel_size=(3,3),filters = 30, activation = 'relu'))\n",
    "model.add(MaxPooling2D(3,3))\n",
    "\n",
    "# hidden layer-3\n",
    "model.add(Conv2D(kernel_size=(3,3),filters = 30, activation = 'relu'))\n",
    "model.add(MaxPooling2D(3,3))\n",
    "\n",
    "# Flatten Layer\n",
    "model.add(Conv2D(kernel_size=(3,3),filters = 30, activation = 'relu'))\n",
    "model.add(Flatten())\n",
    "\n",
    "# Dense layer or Fully connected layers\n",
    "model.add(Dense(20, activation = 'relu'))\n",
    "model.add(Dense(15, activation = 'relu'))\n",
    "model.add(Dense(10, activation = 'relu'))\n",
    "model.add(Dense(4, activation = 'softmax'))\n"
   ]
  },
  {
   "cell_type": "code",
   "execution_count": 10,
   "id": "059affc1-a520-4d58-afd5-bbaddb959b55",
   "metadata": {},
   "outputs": [],
   "source": [
    "model.compile(optimizer = 'adam',\n",
    "              loss = 'categorical_crossentropy',\n",
    "             metrics = ['accuracy'])"
   ]
  },
  {
   "cell_type": "code",
   "execution_count": 11,
   "id": "33292fb4-216c-47e2-9734-5688ef9fd187",
   "metadata": {},
   "outputs": [
    {
     "name": "stdout",
     "output_type": "stream",
     "text": [
      "Model: \"sequential\"\n",
      "_________________________________________________________________\n",
      "Layer (type)                 Output Shape              Param #   \n",
      "=================================================================\n",
      "conv2d (Conv2D)              (None, 298, 298, 32)      896       \n",
      "_________________________________________________________________\n",
      "conv2d_1 (Conv2D)            (None, 296, 296, 30)      8670      \n",
      "_________________________________________________________________\n",
      "max_pooling2d (MaxPooling2D) (None, 98, 98, 30)        0         \n",
      "_________________________________________________________________\n",
      "conv2d_2 (Conv2D)            (None, 96, 96, 30)        8130      \n",
      "_________________________________________________________________\n",
      "max_pooling2d_1 (MaxPooling2 (None, 32, 32, 30)        0         \n",
      "_________________________________________________________________\n",
      "conv2d_3 (Conv2D)            (None, 30, 30, 30)        8130      \n",
      "_________________________________________________________________\n",
      "max_pooling2d_2 (MaxPooling2 (None, 10, 10, 30)        0         \n",
      "_________________________________________________________________\n",
      "conv2d_4 (Conv2D)            (None, 8, 8, 30)          8130      \n",
      "_________________________________________________________________\n",
      "flatten (Flatten)            (None, 1920)              0         \n",
      "_________________________________________________________________\n",
      "dense (Dense)                (None, 20)                38420     \n",
      "_________________________________________________________________\n",
      "dense_1 (Dense)              (None, 15)                315       \n",
      "_________________________________________________________________\n",
      "dense_2 (Dense)              (None, 10)                160       \n",
      "_________________________________________________________________\n",
      "dense_3 (Dense)              (None, 4)                 44        \n",
      "=================================================================\n",
      "Total params: 72,895\n",
      "Trainable params: 72,895\n",
      "Non-trainable params: 0\n",
      "_________________________________________________________________\n"
     ]
    }
   ],
   "source": [
    "model.summary()"
   ]
  },
  {
   "cell_type": "code",
   "execution_count": 12,
   "id": "9021feba-4df6-4dae-baf4-283d1df9ba72",
   "metadata": {},
   "outputs": [
    {
     "name": "stdout",
     "output_type": "stream",
     "text": [
      "Epoch 1/10\n",
      "4/4 [==============================] - 7s 2s/step - loss: 1.3470 - accuracy: 0.4000 - val_loss: 1.2580 - val_accuracy: 0.2833\n",
      "Epoch 2/10\n",
      "4/4 [==============================] - 6s 2s/step - loss: 1.3499 - accuracy: 0.3056 - val_loss: 1.2553 - val_accuracy: 0.4000\n",
      "Epoch 3/10\n",
      "4/4 [==============================] - 6s 2s/step - loss: 1.2977 - accuracy: 0.3611 - val_loss: 1.2521 - val_accuracy: 0.4000\n",
      "Epoch 4/10\n",
      "4/4 [==============================] - 6s 2s/step - loss: 1.2908 - accuracy: 0.3500 - val_loss: 1.2148 - val_accuracy: 0.5000\n",
      "Epoch 5/10\n",
      "4/4 [==============================] - 6s 1s/step - loss: 1.2419 - accuracy: 0.6389 - val_loss: 1.1243 - val_accuracy: 0.5333\n",
      "Epoch 6/10\n",
      "4/4 [==============================] - 6s 1s/step - loss: 1.1614 - accuracy: 0.5944 - val_loss: 1.0059 - val_accuracy: 0.7167\n",
      "Epoch 7/10\n",
      "4/4 [==============================] - 6s 1s/step - loss: 1.0112 - accuracy: 0.6889 - val_loss: 0.8855 - val_accuracy: 0.6333\n",
      "Epoch 8/10\n",
      "4/4 [==============================] - 6s 2s/step - loss: 0.8737 - accuracy: 0.6556 - val_loss: 0.7997 - val_accuracy: 0.6667\n",
      "Epoch 9/10\n",
      "4/4 [==============================] - 6s 1s/step - loss: 0.8147 - accuracy: 0.6444 - val_loss: 0.7730 - val_accuracy: 0.6000\n",
      "Epoch 10/10\n",
      "4/4 [==============================] - 6s 1s/step - loss: 0.7685 - accuracy: 0.6167 - val_loss: 0.7999 - val_accuracy: 0.6500\n"
     ]
    }
   ],
   "source": [
    "model_data  = model.fit(x_train, \n",
    "                        y_train,\n",
    "                       epochs=10,\n",
    "                       batch_size = 50,\n",
    "                       validation_data=(x_test, y_test))"
   ]
  },
  {
   "cell_type": "code",
   "execution_count": 15,
   "id": "9fcbc7ed-0df0-4366-95c7-6cfe193df5c3",
   "metadata": {},
   "outputs": [
    {
     "data": {
      "image/png": "[encoded data removed]",
      "text/plain": [
       "<Figure size 432x288 with 1 Axes>"
      ]
     },
     "metadata": {
      "needs_background": "light"
     },
     "output_type": "display_data"
    }
   ],
   "source": [
    "plt.plot(model_data.history['accuracy'])\n",
    "plt.plot(model_data.history['val_accuracy'])\n",
    "plt.title(\"Model Accuracy\")\n",
    "plt.xlabel(\"accuracy\")\n",
    "plt.ylabel('epochs')\n",
    "plt.tight_layout()\n",
    "plt.legend(['train', 'test'], loc = 'upper left')\n",
    "plt.show()"
   ]
  },
  {
   "cell_type": "code",
   "execution_count": 16,
   "id": "c9320bda-690b-44cd-831b-ee9532954378",
   "metadata": {},
   "outputs": [
    {
     "data": {
      "image/png": "[encoded data removed]",
      "text/plain": [
       "<Figure size 432x288 with 1 Axes>"
      ]
     },
     "metadata": {
      "needs_background": "light"
     },
     "output_type": "display_data"
    }
   ],
   "source": [
    "plt.plot(model_data.history['loss'])\n",
    "plt.plot(model_data.history['val_loss'])\n",
    "plt.title(\"Model Loss\")\n",
    "plt.xlabel(\"Loss\")\n",
    "plt.ylabel('epochs')\n",
    "plt.tight_layout()\n",
    "plt.legend(['train', 'test'], loc = 'upper left')\n",
    "plt.show()"
   ]
  },
  {
   "cell_type": "code",
   "execution_count": 17,
   "id": "8abc105f-aa73-49dc-8a0b-06022374faa1",
   "metadata": {},
   "outputs": [
    {
     "name": "stdout",
     "output_type": "stream",
     "text": [
      "2/2 [==============================] - 0s 160ms/step - loss: 0.7999 - accuracy: 0.6500\n"
     ]
    }
   ],
   "source": [
    "model_evaluate = model.evaluate(x_test, y_test)"
   ]
  },
  {
   "cell_type": "code",
   "execution_count": 18,
   "id": "90291f5b-1970-4e9e-b0da-ad325283f90d",
   "metadata": {},
   "outputs": [
    {
     "name": "stdout",
     "output_type": "stream",
     "text": [
      "[0.7998673319816589, 0.6499999761581421]\n"
     ]
    }
   ],
   "source": [
    "print(model_evaluate)"
   ]
  },
  {
   "cell_type": "code",
   "execution_count": 33,
   "id": "4b67497f-8635-4703-a26a-340870f7a947",
   "metadata": {},
   "outputs": [
    {
     "name": "stdin",
     "output_type": "stream",
     "text": [
      " 54 55\n"
     ]
    },
    {
     "name": "stdout",
     "output_type": "stream",
     "text": [
      "Actual values names: \t ['orange']\n",
      "Pridicted Values names: \t orange\n"
     ]
    }
   ],
   "source": [
    "x, y = map(int, input().split())\n",
    "image_name = test_images[x:y]\n",
    "label_names = test_labels[x:y]\n",
    "\n",
    "predicted = model.predict(np.array(image_name))\n",
    "output = {0: 'apple', \n",
    "         1: \"banana\",\n",
    "         2: 'mixed',\n",
    "         3: 'orange'}\n",
    "\n",
    "\n",
    "print(\"Actual values names: \\t\", label_names)\n",
    "print(\"Pridicted Values names: \\t\", output[np.argmax(predicted)])"
   ]
  },
  {
   "cell_type": "code",
   "execution_count": null,
   "id": "e048af5d-6b61-4a97-9f4d-cfd1539c153f",
   "metadata": {},
   "outputs": [],
   "source": []
  }
 ],
 "metadata": {
  "kernelspec": {
   "display_name": "Python 3 (ipykernel)",
   "language": "python",
   "name": "python3"
  },
  "language_info": {
   "codemirror_mode": {
    "name": "ipython",
    "version": 3
   },
   "file_extension": ".py",
   "mimetype": "text/x-python",
   "name": "python",
   "nbconvert_exporter": "python",
   "pygments_lexer": "ipython3",
   "version": "3.9.7"
  }
 },
 "nbformat": 4,
 "nbformat_minor": 5
}
